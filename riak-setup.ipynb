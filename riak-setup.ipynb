{
 "cells": [
  {
   "cell_type": "markdown",
   "metadata": {},
   "source": [
    "This post details how to set up a multi-node, single-server Riak cluster with replication across nodes.\n",
    "\n",
    "## Some background\n",
    "- Riak operates on a server-client model: the \"riak daemon\" (formerly \"riak start\") terminal command boots up a riak daemon that runs in the background.\n",
    "- Each separate running instance of riak is called a node; each Riak node manages a set of virtual nodes, or vnodes, that are responsible for storing a separate portion of the keys stored in the cluster (https://www.tiot.jp/riak-docs/riak/kv/3.2.0/learn/concepts/clusters/).\n",
    "- Riak supports running two kinds of clusters:\n",
    "1. One node per host\n",
    "2. Multiple nodes on a single host ← (the subject of this post), (https://www.tiot.jp/riak-docs/riak/kv/3.2.0/using/running-a-cluster/#running-multiple-nodes-on-one-host)\n",
    "\n",
    "## Key Documentation\n",
    "- Python Client, http://basho.github.io/riak-python-client/ \n",
    "- Riak-KV, https://www.tiot.jp/riak-docs/riak/kv/3.2.0/ \n",
    "- Riak-KV source, https://github.com/basho/riak "
   ]
  },
  {
   "cell_type": "markdown",
   "metadata": {},
   "source": [
    "# Installation/Setup\n",
    "\n",
    "Operating System:\n",
    "CC-Ubuntu22.04\n",
    "\n",
    "## 1. Install pyenv\n",
    "Follow: https://itslinuxfoss.com/install-use-pyenv-ubuntu/\n",
    "\n",
    "\n",
    "## 2. Install Python 3.5.9 and Pip\n",
    "Python 3.5.9 is the latest compatible version with the Riak Python client"
   ]
  },
  {
   "cell_type": "code",
   "execution_count": null,
   "metadata": {
    "vscode": {
     "languageId": "shellscript"
    }
   },
   "outputs": [
    {
     "name": "stdout",
     "output_type": "stream",
     "text": [
      "24\n"
     ]
    }
   ],
   "source": [
    "sudo apt update\n",
    "sudo apt install clang -y\n",
    "sudo apt install libssl-dev\n",
    "sudo apt-get install build-essential gdb lcov pkg-config \\\n",
    "      libbz2-dev libffi-dev libgdbm-dev libgdbm-compat-dev liblzma-dev \\\n",
    "      libncurses5-dev libreadline6-dev libsqlite3-dev libssl-dev \\\n",
    "      lzma lzma-dev tk-dev uuid-dev zlib1g-dev\n",
    "CC=clang pyenv install 3.5.9\n",
    "pyenv global 3.5.9"
   ]
  },
  {
   "cell_type": "markdown",
   "metadata": {},
   "source": [
    "...Now you should be able to \"import riak\" in any *.py file!\n",
    "\n",
    "## 3. Install Riak\n",
    "\n",
    "As prereqs, we need to install Erlang OTP25, cmake, and libpam0g-dev...\n",
    "\n",
    "### 3.a Prereqs"
   ]
  },
  {
   "cell_type": "code",
   "execution_count": null,
   "metadata": {
    "vscode": {
     "languageId": "shellscript"
    }
   },
   "outputs": [],
   "source": [
    "# Install Erlang\n",
    "git clone https://github.com/erlang/otp.git\n",
    "cd otp\n",
    "git checkout OTP-25.3.2.5\n",
    "./configure\n",
    "make -j9\n",
    "sudo make install\n",
    "\n",
    "# Install cmake\n",
    "sudo apt-get install cmake\n",
    "\n",
    "# Install libpam0g-dev (this fixes a pam_appl.h error when installing Riak)\n",
    "sudo apt-get install libpam0g-dev"
   ]
  },
  {
   "cell_type": "markdown",
   "metadata": {},
   "source": [
    "### 3.b. Install Riak proper"
   ]
  },
  {
   "cell_type": "code",
   "execution_count": null,
   "metadata": {
    "vscode": {
     "languageId": "shellscript"
    }
   },
   "outputs": [],
   "source": [
    "wget https://github.com/basho/riak/archive/refs/tags/riak-3.2.0.tar.gz\n",
    "tar zxvf riak-3.2.0.tar.gz\n",
    "cd riak-riak-3.2.0\n",
    "make devclean\n",
    "make devrel"
   ]
  },
  {
   "cell_type": "markdown",
   "metadata": {},
   "source": [
    "## Running a cluster\n",
    "For more details: https://www.tiot.jp/riak-docs/riak/kv/3.2.0/using/running-a-cluster/#running-multiple-nodes-on-one-host \n",
    "\n",
    "For the following commands, the shell cwd must be in riak-riak-3.2.0."
   ]
  },
  {
   "cell_type": "code",
   "execution_count": null,
   "metadata": {
    "vscode": {
     "languageId": "shellscript"
    }
   },
   "outputs": [],
   "source": [
    "# Starting several Riak daemons (you can do up to 8 daemons, because devrel creates 8 dev* directories)\n",
    "sudo dev/dev1/riak/bin/riak daemon\n",
    "sudo dev/dev2/riak/bin/riak daemon\n",
    "sudo dev/dev3/riak/bin/riak daemon\n",
    "\n",
    "# Joining dev2 and dev3 to dev1 \n",
    "sudo dev/dev2/riak/bin/riak admin cluster join dev1@127.0.0.1\n",
    "sudo dev/dev3/riak/bin/riak admin cluster join dev1@127.0.0.1\n",
    "sudo dev/dev1/riak/bin/riak admin cluster plan\n",
    "sudo dev/dev1/riak/bin/riak admin cluster commit\n",
    "\n",
    "# See members of cluster\n",
    "sudo dev/dev1/riak/bin/riak admin member-status\n",
    "# Note: repeat \"member-status\" multiple times just after commit to see \"Ring\" composition slowly changing to equalize across the 3 nodes\n",
    "\n",
    "# Creating a bucket type (e.g. in the following example, we set a custom n_val replication value of 1; default is 3)\n",
    "riak-admin bucket-type create n_equals_1 '{\"props\":{\"n_val\":1}}'\n",
    "riak-admin bucket-type activate n_equals_1\n"
   ]
  },
  {
   "cell_type": "markdown",
   "metadata": {},
   "source": [
    "## Interacting with cluster through Python client\n",
    "...a simple python program to demonstrate replication\n",
    "\n",
    "IMPORTANT*\n",
    "Q: Where to get the \"nodes\" information?\n",
    "A: you need to copy some fields from dev*/etc/riak.conf\n",
    "- the cluster's ip address          -> host\n",
    "- listener.http.internal port #     -> http_port\n",
    "- listener.protobuf.internal port # -> pb_port"
   ]
  },
  {
   "cell_type": "code",
   "execution_count": null,
   "metadata": {
    "vscode": {
     "languageId": "shellscript"
    }
   },
   "outputs": [],
   "source": [
    "import riak\n",
    "from riak import RiakClient, RiakObject\n",
    "\n",
    "# Creating a client connected to dev1, dev2, and dev3\n",
    "# client = riak.RiakClient(protocol=\"pbc\", \n",
    "#                          host='127.0.0.1', \n",
    "#                          nodes=[{\"host\":\"127.0.0.1\", \"http_port\":10018, \"pb_port\":10017},  # dev1\n",
    "#                                 {\"host\":\"127.0.0.1\", \"http_port\":10028, \"pb_port\":10027},  # dev2\n",
    "#                                 {\"host\":\"127.0.0.1\", \"http_port\":10038, \"pb_port\":10037}]) # dev3\n",
    "\n",
    "\n",
    "\n",
    "# Creating a client connected to dev1 only\n",
    "client_dev1 = riak.RiakClient(protocol=\"pbc\", \n",
    "                         host='127.0.0.1', \n",
    "                         nodes=[{\"host\":\"127.0.0.1\", \"http_port\":10018, \"pb_port\":10017}]) # dev1\n",
    "\n",
    "\n",
    "bucket = client.bucket('example_bucket')\n",
    "# Note, if bucket-type is not specified, the \"default\" bucket-type is used (which is always available)\n",
    "# You can only instantiate a bucket-type that you create beforehand!\n",
    "# e.g. n_equals_1 (the bucket type we created in the previous block) is available \n",
    "# bucket = client_dev1.bucket_type(\"n_equals_1\").bucket(\"r1_example0\")\n",
    "\n",
    "\n",
    "\n",
    "# Create a new object and save\n",
    "wobj = bucket.new(\"example object\")\n",
    "wobj.content_type = \"text/plain\"  # Set the content type\n",
    "wobj.data = \"This is some data\"\n",
    "wobj.store()\n",
    "\n",
    "robj = bucket.get(\"example object\")\n",
    "print(robj.data)\n",
    "\n",
    "\n",
    "client_dev2 = riak.RiakClient(protocol=\"pbc\", \n",
    "                              host='127.0.0.1', \n",
    "                              nodes=[{\"host\":\"127.0.0.1\", \"http_port\":10028, \"pb_port\":10027}])\n",
    "print(bucket.get(\"example object\").data)"
   ]
  },
  {
   "cell_type": "markdown",
   "metadata": {},
   "source": [
    "Expected Output:\n",
    "This is some data\n",
    "This is some data\n",
    "\n",
    "Explanation:\n",
    "- client_dev1 is a client connected to dev1, client_dev2 to dev2\n",
    "- I demonstrate that if we create and store the \"Justin Shin\" object in dev1, I may access it from dev2\n",
    "- This shows replication of the object across a 3-node cluster\n"
   ]
  }
 ],
 "metadata": {
  "kernelspec": {
   "display_name": "Python 3",
   "language": "python",
   "name": "python3"
  },
  "language_info": {
   "codemirror_mode": {
    "name": "ipython",
    "version": 3
   },
   "file_extension": ".py",
   "mimetype": "text/x-python",
   "name": "python",
   "nbconvert_exporter": "python",
   "pygments_lexer": "ipython3",
   "version": "3.11.4"
  },
  "orig_nbformat": 4
 },
 "nbformat": 4,
 "nbformat_minor": 2
}
